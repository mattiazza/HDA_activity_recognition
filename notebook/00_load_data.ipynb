{
 "cells": [
  {
   "cell_type": "code",
   "execution_count": 1,
   "metadata": {},
   "outputs": [],
   "source": [
    "import os\n",
    "from pathlib import Path\n",
    "from activity_recognition.utils.dataset_utility import load_data"
   ]
  },
  {
   "cell_type": "code",
   "execution_count": 2,
   "metadata": {},
   "outputs": [
    {
     "data": {
      "text/plain": [
       "'/Users/mattiapiazza/Documents/University/Human Data Analytics/activity_recognition'"
      ]
     },
     "execution_count": 2,
     "metadata": {},
     "output_type": "execute_result"
    }
   ],
   "source": [
    "os.chdir(\"..\")\n",
    "os.getcwd()"
   ]
  },
  {
   "cell_type": "code",
   "execution_count": 7,
   "metadata": {},
   "outputs": [
    {
     "data": {
      "text/plain": [
       "[PosixPath('/Users/mattiapiazza/Documents/University/Human Data Analytics/activity_recognition/data/AR-9b'),\n",
       " PosixPath('/Users/mattiapiazza/Documents/University/Human Data Analytics/activity_recognition/data/AR-3a'),\n",
       " PosixPath('/Users/mattiapiazza/Documents/University/Human Data Analytics/activity_recognition/data/AR-9a'),\n",
       " PosixPath('/Users/mattiapiazza/Documents/University/Human Data Analytics/activity_recognition/data/AR-5b'),\n",
       " PosixPath('/Users/mattiapiazza/Documents/University/Human Data Analytics/activity_recognition/data/AR-2a'),\n",
       " PosixPath('/Users/mattiapiazza/Documents/University/Human Data Analytics/activity_recognition/data/AR-6a'),\n",
       " PosixPath('/Users/mattiapiazza/Documents/University/Human Data Analytics/activity_recognition/data/AR-3b'),\n",
       " PosixPath('/Users/mattiapiazza/Documents/University/Human Data Analytics/activity_recognition/data/AR-1c'),\n",
       " PosixPath('/Users/mattiapiazza/Documents/University/Human Data Analytics/activity_recognition/data/AR-9c'),\n",
       " PosixPath('/Users/mattiapiazza/Documents/University/Human Data Analytics/activity_recognition/data/AR-5a'),\n",
       " PosixPath('/Users/mattiapiazza/Documents/University/Human Data Analytics/activity_recognition/data/AR-8a'),\n",
       " PosixPath('/Users/mattiapiazza/Documents/University/Human Data Analytics/activity_recognition/data/AR-8b'),\n",
       " PosixPath('/Users/mattiapiazza/Documents/University/Human Data Analytics/activity_recognition/data/AR-1a'),\n",
       " PosixPath('/Users/mattiapiazza/Documents/University/Human Data Analytics/activity_recognition/data/AR-4a'),\n",
       " PosixPath('/Users/mattiapiazza/Documents/University/Human Data Analytics/activity_recognition/data/AR-1b'),\n",
       " PosixPath('/Users/mattiapiazza/Documents/University/Human Data Analytics/activity_recognition/data/AR-1e'),\n",
       " PosixPath('/Users/mattiapiazza/Documents/University/Human Data Analytics/activity_recognition/data/AR-7a'),\n",
       " PosixPath('/Users/mattiapiazza/Documents/University/Human Data Analytics/activity_recognition/data/AR-1d')]"
      ]
     },
     "execution_count": 7,
     "metadata": {},
     "output_type": "execute_result"
    }
   ],
   "source": [
    "data_path = Path(\"data\")\n",
    "dir = list(data_path.glob(\"*/*.mat\"))\n",
    "l_dir = list(set([x.parent.absolute() for x in dir]))\n",
    "l_dir"
   ]
  },
  {
   "cell_type": "code",
   "execution_count": 5,
   "metadata": {},
   "outputs": [],
   "source": [
    "run_from_utils = \"cd activity_recognition/utils && poetry run\""
   ]
  },
  {
   "cell_type": "code",
   "execution_count": 10,
   "metadata": {},
   "outputs": [
    {
     "name": "stdout",
     "output_type": "stream",
     "text": [
      "Already processed\n",
      "Already processed\n",
      "Already processed\n",
      "Already processed\n",
      "Already processed\n",
      "Already processed\n",
      "Already processed\n",
      "Already processed\n",
      "Already processed\n",
      "Already processed\n"
     ]
    },
    {
     "data": {
      "text/plain": [
       "0"
      ]
     },
     "execution_count": 10,
     "metadata": {},
     "output_type": "execute_result"
    }
   ],
   "source": [
    "# Execute preprocessing from activity_recognitino/utils\n",
    "os.system(\n",
    "    f\"{run_from_utils} python CSI_phase_sanitization_signal_preprocessing.py '{l_dir[0]}/' 1 - 1 7 0\"\n",
    ")"
   ]
  },
  {
   "cell_type": "code",
   "execution_count": 12,
   "metadata": {},
   "outputs": [
    {
     "name": "stderr",
     "output_type": "stream",
     "text": [
      "Traceback (most recent call last):\n",
      "  File \"/Users/mattiapiazza/Documents/University/Human Data Analytics/activity_recognition/activity_recognition/utils/CSI_phase_sanitization_H_estimation.py\", line 21, in <module>\n",
      "    from plots_utility import *\n",
      "  File \"/Users/mattiapiazza/Documents/University/Human Data Analytics/activity_recognition/activity_recognition/utils/plots_utility.py\", line 27, in <module>\n",
      "    rcParams['text.latex.preamble'] = [r'\\usepackage{newtxmath}']\n",
      "    ~~~~~~~~^^^^^^^^^^^^^^^^^^^^^^^\n",
      "  File \"/Users/mattiapiazza/Documents/University/Human Data Analytics/activity_recognition/.venv/lib/python3.11/site-packages/matplotlib/__init__.py\", line 734, in __setitem__\n",
      "    raise ValueError(f\"Key {key}: {ve}\") from None\n",
      "ValueError: Key text.latex.preamble: Could not convert ['\\\\usepackage{newtxmath}'] to str\n"
     ]
    },
    {
     "data": {
      "text/plain": [
       "256"
      ]
     },
     "execution_count": 12,
     "metadata": {},
     "output_type": "execute_result"
    }
   ],
   "source": [
    "#\n",
    "dir_to_process = l_dir[0]\n",
    "os.system(\n",
    "    f\"{run_from_utils} python CSI_phase_sanitization_H_estimation.py '{dir_to_process}/' 0 {dir_to_process.name} 1 7 0 -1\"\n",
    ")"
   ]
  },
  {
   "cell_type": "code",
   "execution_count": 17,
   "metadata": {},
   "outputs": [
    {
     "data": {
      "text/plain": [
       "dict"
      ]
     },
     "execution_count": 17,
     "metadata": {},
     "output_type": "execute_result"
    }
   ],
   "source": [
    "!poetry run python ../activity_recognition/utils/CSI_doppler_create_dataset_train.py ./doppler_traces/ S1a,S1b,S1c 31 1 340 30 E,L,W,R,J 4"
   ]
  },
  {
   "cell_type": "code",
   "execution_count": null,
   "metadata": {},
   "outputs": [],
   "source": [
    "import pickle\n",
    "\n",
    "with open(csi_file, \"rb\") as fp:  # Unpickling\n",
    "    matrix_csi = pickle.load(fp)"
   ]
  }
 ],
 "metadata": {
  "kernelspec": {
   "display_name": ".venv",
   "language": "python",
   "name": "python3"
  },
  "language_info": {
   "codemirror_mode": {
    "name": "ipython",
    "version": 3
   },
   "file_extension": ".py",
   "mimetype": "text/x-python",
   "name": "python",
   "nbconvert_exporter": "python",
   "pygments_lexer": "ipython3",
   "version": "3.11.5"
  }
 },
 "nbformat": 4,
 "nbformat_minor": 2
}
