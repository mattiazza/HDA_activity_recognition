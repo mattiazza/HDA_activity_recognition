{
 "cells": [
  {
   "cell_type": "markdown",
   "metadata": {},
   "source": [
    "# Human Data Analytics\n",
    "### Project D1: Activity Recognition\n",
    "\n",
    "Our goal is to obtain human activity recognition (HAR) through the use of Wi-Fi signal.\n",
    "\n",
    "\n",
    "## Imported Stuff\n",
    "\n",
    "Let's begin by importing the modules we'll use in this project:\n",
    " \n",
    "- <span style = \"color:cyan\">os</span>: allows us to interact with the operating system\n",
    "- <span style = \"color:cyan\">pathlib.Path</span>: allows us to work with file system paths in a easier way\n",
    "- <span style = \"color:cyan\">typing.NamedTuple</span>: to use tuple object with named fields (easier to manupulate)\n",
    "- <span style = \"color:cyan\">rich.print</span>: this module changes the look of how we print, making it more confortable to visualize and understand"
   ]
  },
  {
   "cell_type": "code",
   "execution_count": 1,
   "metadata": {},
   "outputs": [],
   "source": [
    "import os\n",
    "from pathlib import Path\n",
    "from activity_recognition.utils.dataset_utility import load_data\n",
    "from typing import NamedTuple\n",
    "from rich import print"
   ]
  },
  {
   "cell_type": "markdown",
   "metadata": {},
   "source": [
    "Now that we have imported the necessary modules we want to gather the data needed to create the dataset we will use in this project.\n",
    "To do so we need to change our working directory (*HDA_activity_recognition/notebook* -> *HDA_activity_recognition/data*), that's where `os.chdir(\"..\")` and `os.getcwd()` came to hand  \n",
    "\n",
    "With `os.chdir(\"..\")` we change the current directory going up to the father directory.  \n",
    "`os.getcwd()` gets the current working directory.  \n",
    "\n",
    "\n",
    "**WARNING:** Running the next cell more than one time will change that many time the working directory!\n",
    "\n"
   ]
  },
  {
   "cell_type": "code",
   "execution_count": 2,
   "metadata": {},
   "outputs": [
    {
     "data": {
      "text/plain": [
       "'/Users/mattiapiazza/Documents/University/Human Data Analytics/HDA_activity_recognition'"
      ]
     },
     "execution_count": 2,
     "metadata": {},
     "output_type": "execute_result"
    }
   ],
   "source": [
    "os.chdir(\"..\")\n",
    "os.getcwd()"
   ]
  },
  {
   "cell_type": "markdown",
   "metadata": {},
   "source": [
    "To navigate through the *data* folder and collect all the data needed, let's create the class `MatFile` subclass of `NamedTuple` so we can have an easy access to:  \n",
    "\n",
    "- `dir_name`: string of the name of the directory containing the data \n",
    "- `dir_path`: full path of the directory\n",
    "- `f_name`: name of the file we want to use"
   ]
  },
  {
   "cell_type": "code",
   "execution_count": null,
   "metadata": {},
   "outputs": [],
   "source": [
    "class MatFile(NamedTuple):\n",
    "    dir_name: str\n",
    "    dir_path: Path\n",
    "    f_name: str\n",
    "\n",
    "\n",
    "data_path = Path(\"data\")  # finds the path to the \"data\" directory\n",
    "data_list = data_path.glob(\n",
    "    \"*/*.mat\"\n",
    ")  # returns a list of every .mat file within the \"data\" directory and its subdirectory [.global(*/*.mat)]"
   ]
  },
  {
   "cell_type": "markdown",
   "metadata": {},
   "source": [
    "With the list containing all the `.mat` (`data_list`) we create the `mat_files` list and fill it with a `MatFile` for every file"
   ]
  },
  {
   "cell_type": "code",
   "execution_count": 12,
   "metadata": {},
   "outputs": [
    {
     "data": {
      "text/html": [
       "<pre style=\"white-space:pre;overflow-x:auto;line-height:normal;font-family:Menlo,'DejaVu Sans Mono',consolas,'Courier New',monospace\"><span style=\"color: #800080; text-decoration-color: #800080; font-weight: bold\">MatFile</span><span style=\"font-weight: bold\">(</span>\n",
       "    <span style=\"color: #808000; text-decoration-color: #808000\">dir_name</span>=<span style=\"color: #008000; text-decoration-color: #008000\">'AR-4a'</span>,\n",
       "    <span style=\"color: #808000; text-decoration-color: #808000\">dir_path</span>=<span style=\"color: #800080; text-decoration-color: #800080; font-weight: bold\">PosixPath</span><span style=\"font-weight: bold\">(</span><span style=\"color: #008000; text-decoration-color: #008000\">'/Users/mattiapiazza/Documents/University/Human Data </span>\n",
       "<span style=\"color: #008000; text-decoration-color: #008000\">Analytics/HDA_activity_recognition/data/AR-4a'</span><span style=\"font-weight: bold\">)</span>,\n",
       "    <span style=\"color: #808000; text-decoration-color: #808000\">f_name</span>=<span style=\"color: #008000; text-decoration-color: #008000\">'AR4a_J2'</span>\n",
       "<span style=\"font-weight: bold\">)</span>\n",
       "</pre>\n"
      ],
      "text/plain": [
       "\u001b[1;35mMatFile\u001b[0m\u001b[1m(\u001b[0m\n",
       "    \u001b[33mdir_name\u001b[0m=\u001b[32m'AR-4a'\u001b[0m,\n",
       "    \u001b[33mdir_path\u001b[0m=\u001b[1;35mPosixPath\u001b[0m\u001b[1m(\u001b[0m\u001b[32m'/Users/mattiapiazza/Documents/University/Human Data \u001b[0m\n",
       "\u001b[32mAnalytics/HDA_activity_recognition/data/AR-4a'\u001b[0m\u001b[1m)\u001b[0m,\n",
       "    \u001b[33mf_name\u001b[0m=\u001b[32m'AR4a_J2'\u001b[0m\n",
       "\u001b[1m)\u001b[0m\n"
      ]
     },
     "metadata": {},
     "output_type": "display_data"
    },
    {
     "data": {
      "text/html": [
       "<pre style=\"white-space:pre;overflow-x:auto;line-height:normal;font-family:Menlo,'DejaVu Sans Mono',consolas,'Courier New',monospace\"><span style=\"font-weight: bold\">{</span>\n",
       "    <span style=\"color: #800080; text-decoration-color: #800080; font-weight: bold\">PosixPath</span><span style=\"font-weight: bold\">(</span><span style=\"color: #008000; text-decoration-color: #008000\">'/Users/mattiapiazza/Documents/University/Human Data Analytics/HDA_activity_recognition/data/AR-2a'</span><span style=\"font-weight: bold\">)</span>,\n",
       "    <span style=\"color: #800080; text-decoration-color: #800080; font-weight: bold\">PosixPath</span><span style=\"font-weight: bold\">(</span><span style=\"color: #008000; text-decoration-color: #008000\">'/Users/mattiapiazza/Documents/University/Human Data Analytics/HDA_activity_recognition/data/AR-9b'</span><span style=\"font-weight: bold\">)</span>,\n",
       "    <span style=\"color: #800080; text-decoration-color: #800080; font-weight: bold\">PosixPath</span><span style=\"font-weight: bold\">(</span><span style=\"color: #008000; text-decoration-color: #008000\">'/Users/mattiapiazza/Documents/University/Human Data Analytics/HDA_activity_recognition/data/AR-9c'</span><span style=\"font-weight: bold\">)</span>,\n",
       "    <span style=\"color: #800080; text-decoration-color: #800080; font-weight: bold\">PosixPath</span><span style=\"font-weight: bold\">(</span><span style=\"color: #008000; text-decoration-color: #008000\">'/Users/mattiapiazza/Documents/University/Human Data Analytics/HDA_activity_recognition/data/AR-4a'</span><span style=\"font-weight: bold\">)</span>,\n",
       "    <span style=\"color: #800080; text-decoration-color: #800080; font-weight: bold\">PosixPath</span><span style=\"font-weight: bold\">(</span><span style=\"color: #008000; text-decoration-color: #008000\">'/Users/mattiapiazza/Documents/University/Human Data Analytics/HDA_activity_recognition/data/AR-8a'</span><span style=\"font-weight: bold\">)</span>,\n",
       "    <span style=\"color: #800080; text-decoration-color: #800080; font-weight: bold\">PosixPath</span><span style=\"font-weight: bold\">(</span><span style=\"color: #008000; text-decoration-color: #008000\">'/Users/mattiapiazza/Documents/University/Human Data Analytics/HDA_activity_recognition/data/AR-5a'</span><span style=\"font-weight: bold\">)</span>,\n",
       "    <span style=\"color: #800080; text-decoration-color: #800080; font-weight: bold\">PosixPath</span><span style=\"font-weight: bold\">(</span><span style=\"color: #008000; text-decoration-color: #008000\">'/Users/mattiapiazza/Documents/University/Human Data Analytics/HDA_activity_recognition/data/AR-6a'</span><span style=\"font-weight: bold\">)</span>,\n",
       "    <span style=\"color: #800080; text-decoration-color: #800080; font-weight: bold\">PosixPath</span><span style=\"font-weight: bold\">(</span><span style=\"color: #008000; text-decoration-color: #008000\">'/Users/mattiapiazza/Documents/University/Human Data Analytics/HDA_activity_recognition/data/AR-7a'</span><span style=\"font-weight: bold\">)</span>,\n",
       "    <span style=\"color: #800080; text-decoration-color: #800080; font-weight: bold\">PosixPath</span><span style=\"font-weight: bold\">(</span><span style=\"color: #008000; text-decoration-color: #008000\">'/Users/mattiapiazza/Documents/University/Human Data Analytics/HDA_activity_recognition/data/AR-1c'</span><span style=\"font-weight: bold\">)</span>,\n",
       "    <span style=\"color: #800080; text-decoration-color: #800080; font-weight: bold\">PosixPath</span><span style=\"font-weight: bold\">(</span><span style=\"color: #008000; text-decoration-color: #008000\">'/Users/mattiapiazza/Documents/University/Human Data Analytics/HDA_activity_recognition/data/AR-3b'</span><span style=\"font-weight: bold\">)</span>,\n",
       "    <span style=\"color: #800080; text-decoration-color: #800080; font-weight: bold\">PosixPath</span><span style=\"font-weight: bold\">(</span><span style=\"color: #008000; text-decoration-color: #008000\">'/Users/mattiapiazza/Documents/University/Human Data Analytics/HDA_activity_recognition/data/AR-5b'</span><span style=\"font-weight: bold\">)</span>,\n",
       "    <span style=\"color: #800080; text-decoration-color: #800080; font-weight: bold\">PosixPath</span><span style=\"font-weight: bold\">(</span><span style=\"color: #008000; text-decoration-color: #008000\">'/Users/mattiapiazza/Documents/University/Human Data Analytics/HDA_activity_recognition/data/AR-1d'</span><span style=\"font-weight: bold\">)</span>,\n",
       "    <span style=\"color: #800080; text-decoration-color: #800080; font-weight: bold\">PosixPath</span><span style=\"font-weight: bold\">(</span><span style=\"color: #008000; text-decoration-color: #008000\">'/Users/mattiapiazza/Documents/University/Human Data Analytics/HDA_activity_recognition/data/AR-8b'</span><span style=\"font-weight: bold\">)</span>,\n",
       "    <span style=\"color: #800080; text-decoration-color: #800080; font-weight: bold\">PosixPath</span><span style=\"font-weight: bold\">(</span><span style=\"color: #008000; text-decoration-color: #008000\">'/Users/mattiapiazza/Documents/University/Human Data Analytics/HDA_activity_recognition/data/AR-1a'</span><span style=\"font-weight: bold\">)</span>,\n",
       "    <span style=\"color: #800080; text-decoration-color: #800080; font-weight: bold\">PosixPath</span><span style=\"font-weight: bold\">(</span><span style=\"color: #008000; text-decoration-color: #008000\">'/Users/mattiapiazza/Documents/University/Human Data Analytics/HDA_activity_recognition/data/AR-1b'</span><span style=\"font-weight: bold\">)</span>,\n",
       "    <span style=\"color: #800080; text-decoration-color: #800080; font-weight: bold\">PosixPath</span><span style=\"font-weight: bold\">(</span><span style=\"color: #008000; text-decoration-color: #008000\">'/Users/mattiapiazza/Documents/University/Human Data Analytics/HDA_activity_recognition/data/AR-1e'</span><span style=\"font-weight: bold\">)</span>,\n",
       "    <span style=\"color: #800080; text-decoration-color: #800080; font-weight: bold\">PosixPath</span><span style=\"font-weight: bold\">(</span><span style=\"color: #008000; text-decoration-color: #008000\">'/Users/mattiapiazza/Documents/University/Human Data Analytics/HDA_activity_recognition/data/AR-3a'</span><span style=\"font-weight: bold\">)</span>,\n",
       "    <span style=\"color: #800080; text-decoration-color: #800080; font-weight: bold\">PosixPath</span><span style=\"font-weight: bold\">(</span><span style=\"color: #008000; text-decoration-color: #008000\">'/Users/mattiapiazza/Documents/University/Human Data Analytics/HDA_activity_recognition/data/AR-9a'</span><span style=\"font-weight: bold\">)</span>\n",
       "<span style=\"font-weight: bold\">}</span>\n",
       "</pre>\n"
      ],
      "text/plain": [
       "\u001b[1m{\u001b[0m\n",
       "    \u001b[1;35mPosixPath\u001b[0m\u001b[1m(\u001b[0m\u001b[32m'/Users/mattiapiazza/Documents/University/Human Data Analytics/HDA_activity_recognition/data/AR-2a'\u001b[0m\u001b[1m)\u001b[0m,\n",
       "    \u001b[1;35mPosixPath\u001b[0m\u001b[1m(\u001b[0m\u001b[32m'/Users/mattiapiazza/Documents/University/Human Data Analytics/HDA_activity_recognition/data/AR-9b'\u001b[0m\u001b[1m)\u001b[0m,\n",
       "    \u001b[1;35mPosixPath\u001b[0m\u001b[1m(\u001b[0m\u001b[32m'/Users/mattiapiazza/Documents/University/Human Data Analytics/HDA_activity_recognition/data/AR-9c'\u001b[0m\u001b[1m)\u001b[0m,\n",
       "    \u001b[1;35mPosixPath\u001b[0m\u001b[1m(\u001b[0m\u001b[32m'/Users/mattiapiazza/Documents/University/Human Data Analytics/HDA_activity_recognition/data/AR-4a'\u001b[0m\u001b[1m)\u001b[0m,\n",
       "    \u001b[1;35mPosixPath\u001b[0m\u001b[1m(\u001b[0m\u001b[32m'/Users/mattiapiazza/Documents/University/Human Data Analytics/HDA_activity_recognition/data/AR-8a'\u001b[0m\u001b[1m)\u001b[0m,\n",
       "    \u001b[1;35mPosixPath\u001b[0m\u001b[1m(\u001b[0m\u001b[32m'/Users/mattiapiazza/Documents/University/Human Data Analytics/HDA_activity_recognition/data/AR-5a'\u001b[0m\u001b[1m)\u001b[0m,\n",
       "    \u001b[1;35mPosixPath\u001b[0m\u001b[1m(\u001b[0m\u001b[32m'/Users/mattiapiazza/Documents/University/Human Data Analytics/HDA_activity_recognition/data/AR-6a'\u001b[0m\u001b[1m)\u001b[0m,\n",
       "    \u001b[1;35mPosixPath\u001b[0m\u001b[1m(\u001b[0m\u001b[32m'/Users/mattiapiazza/Documents/University/Human Data Analytics/HDA_activity_recognition/data/AR-7a'\u001b[0m\u001b[1m)\u001b[0m,\n",
       "    \u001b[1;35mPosixPath\u001b[0m\u001b[1m(\u001b[0m\u001b[32m'/Users/mattiapiazza/Documents/University/Human Data Analytics/HDA_activity_recognition/data/AR-1c'\u001b[0m\u001b[1m)\u001b[0m,\n",
       "    \u001b[1;35mPosixPath\u001b[0m\u001b[1m(\u001b[0m\u001b[32m'/Users/mattiapiazza/Documents/University/Human Data Analytics/HDA_activity_recognition/data/AR-3b'\u001b[0m\u001b[1m)\u001b[0m,\n",
       "    \u001b[1;35mPosixPath\u001b[0m\u001b[1m(\u001b[0m\u001b[32m'/Users/mattiapiazza/Documents/University/Human Data Analytics/HDA_activity_recognition/data/AR-5b'\u001b[0m\u001b[1m)\u001b[0m,\n",
       "    \u001b[1;35mPosixPath\u001b[0m\u001b[1m(\u001b[0m\u001b[32m'/Users/mattiapiazza/Documents/University/Human Data Analytics/HDA_activity_recognition/data/AR-1d'\u001b[0m\u001b[1m)\u001b[0m,\n",
       "    \u001b[1;35mPosixPath\u001b[0m\u001b[1m(\u001b[0m\u001b[32m'/Users/mattiapiazza/Documents/University/Human Data Analytics/HDA_activity_recognition/data/AR-8b'\u001b[0m\u001b[1m)\u001b[0m,\n",
       "    \u001b[1;35mPosixPath\u001b[0m\u001b[1m(\u001b[0m\u001b[32m'/Users/mattiapiazza/Documents/University/Human Data Analytics/HDA_activity_recognition/data/AR-1a'\u001b[0m\u001b[1m)\u001b[0m,\n",
       "    \u001b[1;35mPosixPath\u001b[0m\u001b[1m(\u001b[0m\u001b[32m'/Users/mattiapiazza/Documents/University/Human Data Analytics/HDA_activity_recognition/data/AR-1b'\u001b[0m\u001b[1m)\u001b[0m,\n",
       "    \u001b[1;35mPosixPath\u001b[0m\u001b[1m(\u001b[0m\u001b[32m'/Users/mattiapiazza/Documents/University/Human Data Analytics/HDA_activity_recognition/data/AR-1e'\u001b[0m\u001b[1m)\u001b[0m,\n",
       "    \u001b[1;35mPosixPath\u001b[0m\u001b[1m(\u001b[0m\u001b[32m'/Users/mattiapiazza/Documents/University/Human Data Analytics/HDA_activity_recognition/data/AR-3a'\u001b[0m\u001b[1m)\u001b[0m,\n",
       "    \u001b[1;35mPosixPath\u001b[0m\u001b[1m(\u001b[0m\u001b[32m'/Users/mattiapiazza/Documents/University/Human Data Analytics/HDA_activity_recognition/data/AR-9a'\u001b[0m\u001b[1m)\u001b[0m\n",
       "\u001b[1m}\u001b[0m\n"
      ]
     },
     "metadata": {},
     "output_type": "display_data"
    }
   ],
   "source": [
    "mat_files = []\n",
    "\n",
    "for data in data_list:  # data_list is a list with all Path object\n",
    "    mat_files.append(\n",
    "        MatFile(\n",
    "            dir_name=data.parent.name,  # with \".parent\" we recive the parent of data. With \".name\" we get its name\n",
    "            dir_path=data.parent.absolute(),  # \".absolute()\" returns all the complete path of the parent of data\n",
    "            f_name=data.name[:-4],\n",
    "        )\n",
    "    )\n",
    "\n",
    "mat_parents = set(\n",
    "    file.dir_path for file in mat_files\n",
    ")  # \"set()\" allows to keep just unique values\n",
    "\n",
    "print(mat_files[0])\n",
    "print(mat_parents)"
   ]
  },
  {
   "cell_type": "code",
   "execution_count": 13,
   "metadata": {},
   "outputs": [],
   "source": [
    "run_from_utils = \"cd activity_recognition/utils && poetry run\""
   ]
  },
  {
   "cell_type": "code",
   "execution_count": 14,
   "metadata": {},
   "outputs": [
    {
     "name": "stdout",
     "output_type": "stream",
     "text": [
      "Already processed\n",
      "Already processed\n",
      "Already processed\n",
      "Already processed\n",
      "Already processed\n",
      "Already processed\n",
      "Already processed\n",
      "Already processed\n",
      "Already processed\n",
      "Already processed\n",
      "Already processed\n"
     ]
    }
   ],
   "source": [
    "# Execute preprocessing from activity_recognitino/utils\n",
    "for directory in mat_parents:\n",
    "    os.system(\n",
    "        f\"{run_from_utils} python CSI_phase_sanitization_signal_preprocessing.py '{directory}/' 1 - 1 7 0\"\n",
    "    )"
   ]
  },
  {
   "cell_type": "code",
   "execution_count": 15,
   "metadata": {},
   "outputs": [
    {
     "data": {
      "text/plain": [
       "0"
      ]
     },
     "execution_count": 15,
     "metadata": {},
     "output_type": "execute_result"
    }
   ],
   "source": [
    "# e.g., python CSI_phase_sanitization_H_estimation.py ../input_files/S1a/ 0 S1a_E 1 4 0 -1\n",
    "file_to_process = mat_files[0]\n",
    "os.system(\n",
    "    f\"{run_from_utils} python CSI_phase_sanitization_H_estimation.py '{file_to_process.dir_path}/' 0 {file_to_process.f_name} 1 7 0 -1\"\n",
    ")"
   ]
  },
  {
   "cell_type": "code",
   "execution_count": 8,
   "metadata": {},
   "outputs": [
    {
     "data": {
      "text/plain": [
       "'AR-4a'"
      ]
     },
     "execution_count": 8,
     "metadata": {},
     "output_type": "execute_result"
    }
   ],
   "source": [
    "os.system{\n",
    "    f\"{run_from_utils} python CSI_phase_sanitization_signal_reconstruction.py ./phase_processing/ ./processed_phase/ 1 7 0 -1 \"\n",
    "}"
   ]
  },
  {
   "cell_type": "code",
   "execution_count": 17,
   "metadata": {},
   "outputs": [
    {
     "data": {
      "text/plain": [
       "dict"
      ]
     },
     "execution_count": 17,
     "metadata": {},
     "output_type": "execute_result"
    }
   ],
   "source": [
    "!poetry run python ../activity_recognition/utils/CSI_doppler_create_dataset_train.py ./doppler_traces/ S1a,S1b,S1c 31 1 340 30 E,L,W,R,J 4"
   ]
  },
  {
   "cell_type": "code",
   "execution_count": null,
   "metadata": {},
   "outputs": [],
   "source": [
    "import pickle\n",
    "\n",
    "with open(csi_file, \"rb\") as fp:  # Unpickling\n",
    "    matrix_csi = pickle.load(fp)"
   ]
  }
 ],
 "metadata": {
  "kernelspec": {
   "display_name": ".venv",
   "language": "python",
   "name": "python3"
  },
  "language_info": {
   "codemirror_mode": {
    "name": "ipython",
    "version": 3
   },
   "file_extension": ".py",
   "mimetype": "text/x-python",
   "name": "python",
   "nbconvert_exporter": "python",
   "pygments_lexer": "ipython3",
   "version": "3.11.5"
  }
 },
 "nbformat": 4,
 "nbformat_minor": 2
}
